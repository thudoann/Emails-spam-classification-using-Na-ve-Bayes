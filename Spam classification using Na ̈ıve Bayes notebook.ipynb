{
 "cells": [
  {
   "cell_type": "markdown",
   "id": "39e32c56",
   "metadata": {},
   "source": [
    "# DAT405/DIT406 Introduction to Data Science and AI\n",
    "## Assignment 4: Spam classification using Naïve Bayes\n",
    "\n",
    "\n",
    "### Anh Thu DOAN\n",
    "#### Exchange student from CY Tech - France to GU CSE Department\n",
    "##### 12 hours spent\n",
    "\n",
    "### Khushi Chitra Uday\n",
    "#### Exchange student from CY Tech - France to GU CSE Department\n",
    "##### 10 hours spent\n",
    "\n",
    "\n",
    "### Group 26"
   ]
  },
  {
   "cell_type": "code",
   "execution_count": 1,
   "id": "9ae69390",
   "metadata": {},
   "outputs": [],
   "source": [
    "from sklearn.datasets import load_files\n",
    "from sklearn.model_selection import train_test_split\n",
    "from sklearn.feature_extraction.text import CountVectorizer\n",
    "from sklearn.naive_bayes import MultinomialNB\n",
    "from sklearn.naive_bayes import BernoulliNB\n",
    "from sklearn.metrics import accuracy_score\n",
    "from sklearn.metrics import recall_score\n",
    "from sklearn.metrics import precision_score\n",
    "from sklearn.metrics import confusion_matrix, ConfusionMatrixDisplay\n",
    "import matplotlib.pyplot as plt\n",
    "import pandas as pd\n",
    "from collections import Counter"
   ]
  },
  {
   "cell_type": "markdown",
   "id": "00dfa40e",
   "metadata": {},
   "source": [
    "# Preprocessing:"
   ]
  },
  {
   "cell_type": "code",
   "execution_count": 2,
   "id": "ecdff1d3",
   "metadata": {},
   "outputs": [],
   "source": [
    "# Load the data using sklearn.datasets.load_files function\n",
    "es_df = load_files(\"data/easy-spam\",encoding= \"latin-1\")\n",
    "hs_df = load_files(\"data/hard-spam\",encoding= \"latin-1\")"
   ]
  },
  {
   "cell_type": "code",
   "execution_count": 3,
   "id": "cc1af213",
   "metadata": {},
   "outputs": [
    {
     "name": "stdout",
     "output_type": "stream",
     "text": [
      "There are 2551 easy ham emails in easy & spam data set\n"
     ]
    }
   ],
   "source": [
    "# How many easy ham emails in easy & spam data set:\n",
    "cpt = 0\n",
    "for i in range(len(es_df.target)):\n",
    "    if es_df.target[i] == 0:\n",
    "        cpt +=1\n",
    "print('There are', cpt,'easy ham emails in easy & spam data set')"
   ]
  },
  {
   "cell_type": "code",
   "execution_count": 4,
   "id": "c26fd3ee",
   "metadata": {},
   "outputs": [
    {
     "name": "stdout",
     "output_type": "stream",
     "text": [
      "There are 501 spam emails in easy & spam data set\n"
     ]
    }
   ],
   "source": [
    "# How many spam emails in easy & spam data set:\n",
    "cpt = 0\n",
    "for i in range(len(es_df.target)):\n",
    "    if es_df.target[i] == 1:\n",
    "        cpt +=1\n",
    "print('There are', cpt,'spam emails in easy & spam data set')"
   ]
  },
  {
   "cell_type": "code",
   "execution_count": 5,
   "id": "8a4f2d22",
   "metadata": {},
   "outputs": [
    {
     "name": "stdout",
     "output_type": "stream",
     "text": [
      "There are 250 hard ham emails in hard & spam data set\n"
     ]
    }
   ],
   "source": [
    "# How many hard ham emails in hard & spam data set:\n",
    "cpt = 0\n",
    "for i in range(len(hs_df.target)):\n",
    "    if hs_df.target[i] == 0:\n",
    "        cpt +=1\n",
    "print('There are', cpt,'hard ham emails in hard & spam data set')"
   ]
  },
  {
   "cell_type": "code",
   "execution_count": 6,
   "id": "37772078",
   "metadata": {},
   "outputs": [
    {
     "name": "stdout",
     "output_type": "stream",
     "text": [
      "There are 501 spam emails in hard & spam data set\n"
     ]
    }
   ],
   "source": [
    "# How many spam emails in hard & spam data set:\n",
    "cpt = 0\n",
    "for i in range(len(hs_df.target)):\n",
    "    if hs_df.target[i] == 1:\n",
    "        cpt +=1\n",
    "print('There are', cpt,'spam emails in hard & spam data set')"
   ]
  },
  {
   "cell_type": "code",
   "execution_count": 7,
   "id": "6cf1d1e3",
   "metadata": {},
   "outputs": [],
   "source": [
    "# Split the easy&spam data into 0.3\n",
    "easy_train, easy_test, spam1_train, spam1_test = train_test_split(es_df.data, es_df.target, test_size=0.3, random_state=0)"
   ]
  },
  {
   "cell_type": "code",
   "execution_count": 8,
   "id": "411971f1",
   "metadata": {},
   "outputs": [],
   "source": [
    "# Split the hard&spam data into training set(70%) and test set (30%)\n",
    "hard_train, hard_test, spam2_train, spam2_test = train_test_split(hs_df.data, hs_df.target, test_size=0.3, random_state=0)"
   ]
  },
  {
   "cell_type": "code",
   "execution_count": 9,
   "id": "5a843997",
   "metadata": {},
   "outputs": [],
   "source": [
    "cv = CountVectorizer()"
   ]
  },
  {
   "cell_type": "code",
   "execution_count": 10,
   "id": "f558e635",
   "metadata": {},
   "outputs": [],
   "source": [
    "def run_multi_naiveBayes(ham_train, ham_test, spam_train, spam_test):\n",
    "    \n",
    "    # Learn the vocabulary dictionary and return document-term matrix.\n",
    "    X_train = cv.fit_transform(ham_train)\n",
    "    \n",
    "    # transform all of the features on test data\n",
    "    x_test = cv.transform(ham_test)\n",
    "\n",
    "    #y_train = spam_train.astype('int')\n",
    "    \n",
    "    multi = MultinomialNB()\n",
    "    \n",
    "    multi.fit(X_train, spam_train)\n",
    "    predm = multi.predict(x_test)\n",
    "    scorem = accuracy_score(spam_test,predm)\n",
    "    cmm = confusion_matrix(spam_test, predm)\n",
    "    dispm = ConfusionMatrixDisplay(confusion_matrix = cmm, display_labels = multi.classes_)\n",
    "    dispm = dispm.plot(cmap=plt.cm.Blues,values_format='g')\n",
    "    titlem = 'Multinomial, Accuracy Score: %.3f' % scorem\n",
    "    plt.title(titlem, size = 15);\n",
    "    plt.show()\n",
    "    print('Multinomial, Precision score:', precision_score(spam_test,predm))\n",
    "    print('Multinomial, Recall score:', recall_score(spam_test,predm))"
   ]
  },
  {
   "cell_type": "code",
   "execution_count": 11,
   "id": "b1d08d9b",
   "metadata": {},
   "outputs": [],
   "source": [
    "def run_bern_naiveBayes(ham_train, ham_test, spam_train, spam_test):\n",
    "    \n",
    "    X_train = cv.fit_transform(ham_train)\n",
    "    x_test = cv.transform(ham_test)\n",
    "\n",
    "    #y_train = spam_train.astype('int')\n",
    "    \n",
    "    bern = BernoulliNB(binarize=0)\n",
    "    bern.fit(X_train, spam_train)\n",
    "    \n",
    "    predb = bern.predict(x_test)\n",
    "    scoreb = accuracy_score(spam_test,predb)\n",
    "    cmb = confusion_matrix(spam_test, predb)\n",
    "    dispb = ConfusionMatrixDisplay(confusion_matrix = cmb, display_labels = bern.classes_)\n",
    "    dispb = dispb.plot(cmap=plt.cm.Blues,values_format='g')\n",
    "    titleb = 'Accuracy Score: %.3f' % scoreb\n",
    "    plt.title(titleb, size = 15);\n",
    "    plt.show()\n",
    "    print('Bernoulli, Precision score:', precision_score(spam_test,predb))\n",
    "    print('Bernoulli, Recall score:', recall_score(spam_test,predb))    "
   ]
  },
  {
   "cell_type": "markdown",
   "id": "572d7825",
   "metadata": {},
   "source": [
    "## Multinomial"
   ]
  },
  {
   "cell_type": "markdown",
   "id": "cc0a3cd4",
   "metadata": {},
   "source": [
    "### Spam versus easy-ham on Mulinomial Naive Bayes"
   ]
  },
  {
   "cell_type": "code",
   "execution_count": 12,
   "id": "5828d317",
   "metadata": {},
   "outputs": [
    {
     "data": {
      "image/png": "[encoded data removed]",
      "text/plain": [
       "<Figure size 432x288 with 2 Axes>"
      ]
     },
     "metadata": {
      "needs_background": "light"
     },
     "output_type": "display_data"
    },
    {
     "name": "stdout",
     "output_type": "stream",
     "text": [
      "Multinomial, Precision score: 0.9916666666666667\n",
      "Multinomial, Recall score: 0.7986577181208053\n"
     ]
    }
   ],
   "source": [
    "run_multi_naiveBayes(easy_train, easy_test, spam1_train, spam1_test)"
   ]
  },
  {
   "cell_type": "markdown",
   "id": "6d976f26",
   "metadata": {},
   "source": [
    "### Spam versus hard-ham on Mulinomial Naive Bayes"
   ]
  },
  {
   "cell_type": "code",
   "execution_count": 13,
   "id": "6840f8be",
   "metadata": {},
   "outputs": [
    {
     "data": {
      "image/png": "[encoded data removed]",
      "text/plain": [
       "<Figure size 432x288 with 2 Axes>"
      ]
     },
     "metadata": {
      "needs_background": "light"
     },
     "output_type": "display_data"
    },
    {
     "name": "stdout",
     "output_type": "stream",
     "text": [
      "Multinomial, Precision score: 0.9096774193548387\n",
      "Multinomial, Recall score: 0.9657534246575342\n"
     ]
    }
   ],
   "source": [
    "run_multi_naiveBayes(hard_train, hard_test, spam2_train, spam2_test)"
   ]
  },
  {
   "cell_type": "markdown",
   "id": "8b35df90",
   "metadata": {},
   "source": [
    "## Bernoulli"
   ]
  },
  {
   "cell_type": "markdown",
   "id": "7ed14297",
   "metadata": {},
   "source": [
    "### Spam versus easy-ham on Bernoulli Naive Bayes"
   ]
  },
  {
   "cell_type": "code",
   "execution_count": 14,
   "id": "dc9cfd61",
   "metadata": {},
   "outputs": [
    {
     "data": {
      "image/png": "[encoded data removed]",
      "text/plain": [
       "<Figure size 432x288 with 2 Axes>"
      ]
     },
     "metadata": {
      "needs_background": "light"
     },
     "output_type": "display_data"
    },
    {
     "name": "stdout",
     "output_type": "stream",
     "text": [
      "Bernoulli, Precision score: 0.9047619047619048\n",
      "Bernoulli, Recall score: 0.3825503355704698\n"
     ]
    }
   ],
   "source": [
    "run_bern_naiveBayes(easy_train, easy_test, spam1_train, spam1_test)"
   ]
  },
  {
   "cell_type": "markdown",
   "id": "312b98bc",
   "metadata": {},
   "source": [
    "### Spam versus hard-ham on Bernoulli Naive Bayes"
   ]
  },
  {
   "cell_type": "code",
   "execution_count": 15,
   "id": "cbf3f952",
   "metadata": {},
   "outputs": [
    {
     "data": {
      "image/png": "[encoded data removed]",
      "text/plain": [
       "<Figure size 432x288 with 2 Axes>"
      ]
     },
     "metadata": {
      "needs_background": "light"
     },
     "output_type": "display_data"
    },
    {
     "name": "stdout",
     "output_type": "stream",
     "text": [
      "Bernoulli, Precision score: 0.815028901734104\n",
      "Bernoulli, Recall score: 0.9657534246575342\n"
     ]
    }
   ],
   "source": [
    "run_bern_naiveBayes(hard_train, hard_test, spam2_train, spam2_test)"
   ]
  },
  {
   "cell_type": "markdown",
   "id": "74526d6a",
   "metadata": {},
   "source": [
    "## Most common & least common words in easy-spam dataset"
   ]
  },
  {
   "cell_type": "code",
   "execution_count": 16,
   "id": "f444176d",
   "metadata": {},
   "outputs": [
    {
     "data": {
      "text/plain": [
       "[('the', 29487),\n",
       " ('2002', 24413),\n",
       " ('from', 22094),\n",
       " ('for', 19790),\n",
       " ('with', 19589),\n",
       " ('>', 19588),\n",
       " ('to', 19378),\n",
       " ('by', 18989),\n",
       " ('received:', 16520),\n",
       " ('of', 15673),\n",
       " ('and', 14621),\n",
       " ('a', 13120),\n",
       " ('sep', 12082),\n",
       " ('id', 12025),\n",
       " ('esmtp', 9774),\n",
       " ('in', 9680),\n",
       " ('+0100', 8995),\n",
       " ('is', 8207),\n",
       " ('that', 6932),\n",
       " ('i', 6751)]"
      ]
     },
     "execution_count": 16,
     "metadata": {},
     "output_type": "execute_result"
    }
   ],
   "source": [
    "Counter(\" \".join(es_df.data).lower().split()).most_common(20)"
   ]
  },
  {
   "cell_type": "code",
   "execution_count": 17,
   "id": "cd0d76a2",
   "metadata": {},
   "outputs": [],
   "source": [
    "mostcommon = Counter(\" \".join(es_df.data).lower().split()).most_common()"
   ]
  },
  {
   "cell_type": "code",
   "execution_count": 18,
   "id": "54dfb3f0",
   "metadata": {},
   "outputs": [],
   "source": [
    "least_common = reversed(mostcommon)\n",
    "least_common = tuple(least_common)"
   ]
  },
  {
   "cell_type": "code",
   "execution_count": 19,
   "id": "0a6b1b03",
   "metadata": {},
   "outputs": [
    {
     "data": {
      "text/plain": [
       "(('href=\"http://202.101.163.34:81/ultimatehgh_zeng/remove.php?userid=zzzz@neilgarner.com\">',\n",
       "  1),\n",
       " ('subscr<!---->iber<br>', 1),\n",
       " ('recei<!--zzzz-->ving', 1),\n",
       " ('here</a><br><br><br><br><br><br><br><br><br><br><br><br><br><br><br><br>',\n",
       "  1),\n",
       " ('hg<!---->h', 1),\n",
       " ('mon<!--zzzz-->th', 1),\n",
       " ('g<!--love-->et', 1),\n",
       " ('info<!--you-->rmation', 1),\n",
       " ('fre<!--o-->e', 1),\n",
       " ('href=\"http://202.101.163.34:81/ultimatehgh_zeng/index.html\">for', 1))"
      ]
     },
     "execution_count": 19,
     "metadata": {},
     "output_type": "execute_result"
    }
   ],
   "source": [
    "least_common[:10]"
   ]
  },
  {
   "cell_type": "markdown",
   "id": "0b46e448",
   "metadata": {},
   "source": [
    "## Most common & least common words in hard-spam dataset"
   ]
  },
  {
   "cell_type": "code",
   "execution_count": 20,
   "id": "5892343b",
   "metadata": {},
   "outputs": [
    {
     "data": {
      "text/plain": [
       "[('the', 16222),\n",
       " ('to', 11592),\n",
       " ('and', 8584),\n",
       " ('<td', 8432),\n",
       " ('of', 8106),\n",
       " ('for', 7608),\n",
       " ('a', 7157),\n",
       " ('from', 5770),\n",
       " ('with', 5632),\n",
       " ('in', 5534),\n",
       " ('you', 5120),\n",
       " ('2002', 5060),\n",
       " ('=', 5001),\n",
       " ('by', 4945),\n",
       " ('<a', 4806),\n",
       " ('your', 4061),\n",
       " ('>', 3872),\n",
       " ('is', 3868),\n",
       " ('this', 3536),\n",
       " ('received:', 3263)]"
      ]
     },
     "execution_count": 20,
     "metadata": {},
     "output_type": "execute_result"
    }
   ],
   "source": [
    "Counter(\" \".join(hs_df.data).lower().split()).most_common(20)"
   ]
  },
  {
   "cell_type": "code",
   "execution_count": 21,
   "id": "b23ee0e7",
   "metadata": {},
   "outputs": [
    {
     "data": {
      "text/plain": [
       "(('22:32:08', 1),\n",
       " ('<200209222033.vaa13010@webnote.net>', 1),\n",
       " ('21:33:17', 1),\n",
       " ('vaa13010', 1),\n",
       " ('[212.107.193.66])', 1),\n",
       " ('(aurora.marine.su', 1),\n",
       " ('21:33:44', 1),\n",
       " ('g8mkxic14225', 1),\n",
       " ('45c4316f16', 1),\n",
       " ('21:56:38', 1))"
      ]
     },
     "execution_count": 21,
     "metadata": {},
     "output_type": "execute_result"
    }
   ],
   "source": [
    "tuple(reversed(Counter(\" \".join(hs_df.data).lower().split()).most_common()))[:10]"
   ]
  },
  {
   "cell_type": "markdown",
   "id": "84e4b59e",
   "metadata": {},
   "source": [
    "## Use the parameters in Sklearn’s CountVectorizer to filter out "
   ]
  },
  {
   "cell_type": "code",
   "execution_count": 22,
   "id": "cb23f20c",
   "metadata": {},
   "outputs": [],
   "source": [
    "#Vectorizing the mails, ignoring words with frequency higher than 90%, words occuring in more than two email, and common english stopwords\n",
    "cvv = CountVectorizer(max_df = 0.90, min_df = 2, stop_words=\"english\")"
   ]
  },
  {
   "cell_type": "code",
   "execution_count": 23,
   "id": "496f1c62",
   "metadata": {},
   "outputs": [],
   "source": [
    "def run_multi_naiveBayes_v(ham_train, ham_test, spam_train, spam_test):\n",
    "    \n",
    "    X_train = cvv.fit_transform(ham_train)\n",
    "    x_test = cvv.transform(ham_test)\n",
    "\n",
    "    y_train = spam_train.astype('int')\n",
    "    \n",
    "    multi = MultinomialNB()\n",
    "    \n",
    "    multi.fit(X_train, spam_train)\n",
    "    predm = multi.predict(x_test)\n",
    "    scorem = accuracy_score(spam_test,predm)\n",
    "    cmm = confusion_matrix(spam_test, predm)\n",
    "    dispm = ConfusionMatrixDisplay(confusion_matrix = cmm, display_labels = multi.classes_)\n",
    "    dispm = dispm.plot(cmap=plt.cm.Blues,values_format='g')\n",
    "    titlem = 'Multinomial, Accuracy Score after filler out: %.3f' % scorem\n",
    "    plt.title(titlem, size = 15);\n",
    "    plt.show()\n",
    "    print('Multinomial, Precision score:', precision_score(spam_test,predm))\n",
    "    print('Multinomial, Recall score:', recall_score(spam_test,predm))"
   ]
  },
  {
   "cell_type": "code",
   "execution_count": 24,
   "id": "941bc1d5",
   "metadata": {},
   "outputs": [],
   "source": [
    "def run_bern_naiveBayes_v(ham_train, ham_test, spam_train, spam_test):\n",
    "    \n",
    "    X_train = cvv.fit_transform(ham_train)\n",
    "    x_test = cvv.transform(ham_test)\n",
    "\n",
    "    y_train = spam_train.astype('int')\n",
    "    \n",
    "    bern = BernoulliNB(binarize=0)\n",
    "    bern.fit(X_train, spam_train)\n",
    "    \n",
    "    predb = bern.predict(x_test)\n",
    "    scoreb = accuracy_score(spam_test,predb)\n",
    "    cmb = confusion_matrix(spam_test, predb)\n",
    "    dispb = ConfusionMatrixDisplay(confusion_matrix = cmb, display_labels = bern.classes_)\n",
    "    dispb = dispb.plot(cmap=plt.cm.Blues,values_format='g')\n",
    "    titlebv = 'Bernoulli, Accuracy Score after filler out: %.3f' % scoreb\n",
    "    plt.title(titlebv, size = 15);\n",
    "    plt.show()\n",
    "    print('Bernoulli, Precision score:', precision_score(spam_test,predb))\n",
    "    print('Bernoulli, Recall score:', recall_score(spam_test,predb))    "
   ]
  },
  {
   "cell_type": "markdown",
   "id": "ddbc430e",
   "metadata": {},
   "source": [
    "### Easy-ham vs Spam"
   ]
  },
  {
   "cell_type": "code",
   "execution_count": 25,
   "id": "0ac73ef2",
   "metadata": {},
   "outputs": [
    {
     "data": {
      "image/png": "[encoded data removed]",
      "text/plain": [
       "<Figure size 432x288 with 2 Axes>"
      ]
     },
     "metadata": {
      "needs_background": "light"
     },
     "output_type": "display_data"
    },
    {
     "name": "stdout",
     "output_type": "stream",
     "text": [
      "Multinomial, Precision score: 0.993006993006993\n",
      "Multinomial, Recall score: 0.9530201342281879\n"
     ]
    }
   ],
   "source": [
    "run_multi_naiveBayes_v(easy_train, easy_test, spam1_train, spam1_test)"
   ]
  },
  {
   "cell_type": "code",
   "execution_count": 26,
   "id": "df75477b",
   "metadata": {},
   "outputs": [
    {
     "data": {
      "image/png": "[encoded data removed]",
      "text/plain": [
       "<Figure size 432x288 with 2 Axes>"
      ]
     },
     "metadata": {
      "needs_background": "light"
     },
     "output_type": "display_data"
    },
    {
     "name": "stdout",
     "output_type": "stream",
     "text": [
      "Bernoulli, Precision score: 0.9411764705882353\n",
      "Bernoulli, Recall score: 0.8590604026845637\n"
     ]
    }
   ],
   "source": [
    "run_bern_naiveBayes_v(easy_train, easy_test, spam1_train, spam1_test)"
   ]
  },
  {
   "cell_type": "markdown",
   "id": "746b0bb5",
   "metadata": {},
   "source": [
    "### Hard-ham vs Spam"
   ]
  },
  {
   "cell_type": "code",
   "execution_count": 27,
   "id": "45184782",
   "metadata": {},
   "outputs": [
    {
     "data": {
      "image/png": "[encoded data removed]",
      "text/plain": [
       "<Figure size 432x288 with 2 Axes>"
      ]
     },
     "metadata": {
      "needs_background": "light"
     },
     "output_type": "display_data"
    },
    {
     "name": "stdout",
     "output_type": "stream",
     "text": [
      "Multinomial, Precision score: 0.8944099378881988\n",
      "Multinomial, Recall score: 0.9863013698630136\n"
     ]
    }
   ],
   "source": [
    "run_multi_naiveBayes_v(hard_train, hard_test, spam2_train, spam2_test)"
   ]
  },
  {
   "cell_type": "code",
   "execution_count": 28,
   "id": "8da8125e",
   "metadata": {},
   "outputs": [
    {
     "data": {
      "image/png": "[encoded data removed]",
      "text/plain": [
       "<Figure size 432x288 with 2 Axes>"
      ]
     },
     "metadata": {
      "needs_background": "light"
     },
     "output_type": "display_data"
    },
    {
     "name": "stdout",
     "output_type": "stream",
     "text": [
      "Bernoulli, Precision score: 0.8545454545454545\n",
      "Bernoulli, Recall score: 0.9657534246575342\n"
     ]
    }
   ],
   "source": [
    "run_bern_naiveBayes_v(hard_train, hard_test, spam2_train, spam2_test)"
   ]
  },
  {
   "cell_type": "markdown",
   "id": "5f1f8fb4",
   "metadata": {},
   "source": [
    "#  Filter out the headers and the footers of the emails "
   ]
  },
  {
   "cell_type": "markdown",
   "id": "1d07c001",
   "metadata": {},
   "source": [
    "By investigate in few email we noticed that the header & footer usually started with some string so we decided to remove these lines. "
   ]
  },
  {
   "cell_type": "code",
   "execution_count": 29,
   "id": "504222a5",
   "metadata": {
    "scrolled": false
   },
   "outputs": [],
   "source": [
    "def remover(df):\n",
    "    for i in range(len(df.data)):\n",
    "        for j in range(len(df.data[i].split('\\n'))):\n",
    "            if df.data[i].split('\\n')[j].startswith('From'):\n",
    "                df.data[i] = df.data[i].replace(df.data[i].split('\\n')[j],'')\n",
    "            elif df.data[i].split('\\n')[j].startswith('Return-Path'):\n",
    "                df.data[i] = df.data[i].replace(df.data[i].split('\\n')[j],'')\n",
    "            elif df.data[i].split('\\n')[j].startswith('\\t'):\n",
    "                df.data[i] = df.data[i].replace(df.data[i].split('\\n')[j],'')\n",
    "            elif df.data[i].split('\\n')[j].startswith('Received'):\n",
    "                df.data[i] = df.data[i].replace(df.data[i].split('\\n')[j],'')\n",
    "            elif df.data[i].split('\\n')[j].startswith('Delivered'):\n",
    "                df.data[i] = df.data[i].replace(df.data[i].split('\\n')[j],'')\n",
    "            elif df.data[i].split('\\n')[j].startswith('List-'):\n",
    "                df.data[i] = df.data[i].replace(df.data[i].split('\\n')[j],'')\n",
    "            elif df.data[i].split('\\n')[j].startswith('Date'):\n",
    "                df.data[i] = df.data[i].replace(df.data[i].split('\\n')[j],'')\n",
    "            elif df.data[i].split('\\n')[j].startswith('X-'):\n",
    "                df.data[i] = df.data[i].replace(df.data[i].split('\\n')[j],'')\n",
    "            elif df.data[i].split('\\n')[j].startswith('Message-Id'):\n",
    "                df.data[i] = df.data[i].replace(df.data[i].split('\\n')[j],'')\n",
    "            elif df.data[i].split('\\n')[j].startswith('    '):\n",
    "                df.data[i] = df.data[i].replace(df.data[i].split('\\n')[j],'')                                         \n",
    "            elif df.data[i].split('\\n')[j].startswith('Precedence'):\n",
    "                df.data[i] = df.data[i].replace(df.data[i].split('\\n')[j],'')\n",
    "            elif df.data[i].split('\\n')[j].startswith('http'):\n",
    "                df.data[i] = df.data[i].replace(df.data[i].split('\\n')[j],'')                                           \n",
    "            elif df.data[i].split('\\n')[j].startswith('Sender'):\n",
    "                df.data[i] = df.data[i].replace(df.data[i].split('\\n')[j],'')                                           \n",
    "            elif df.data[i].split('\\n')[j].startswith('-------'):\n",
    "                df.data[i] = df.data[i].replace(df.data[i].split('\\n')[j],'')                                           \n",
    "            elif df.data[i].split('\\n')[j].startswith('Subject'):\n",
    "                df.data[i] = df.data[i].replace(df.data[i].split('\\n')[j],'')\n",
    "            elif df.data[i].split('\\n')[j].startswith('To'):\n",
    "                df.data[i] = df.data[i].replace(df.data[i].split('\\n')[j],'')\n",
    "            elif df.data[i].split('\\n')[j].startswith(\"Reply-\"):\n",
    "                df.data[i] = df.data[i].replace(df.data[i].split('\\n')[j],'')\n",
    "            elif df.data[i].split('\\n')[j].startswith('Errors-To'):\n",
    "                df.data[i] = df.data[i].replace(df.data[i].split('\\n')[j],'')\n",
    "            elif df.data[i].split('\\n')[j].startswith('___'):\n",
    "                df.data[i] = df.data[i].replace(df.data[i].split('\\n')[j],'')\n",
    "            elif 'Message-ID' in df.data[i].split('\\n')[j]:\n",
    "                df.data[i] = df.data[i].replace(df.data[i].split('\\n')[j],'')\n",
    "            elif df.data[i].split('\\n')[j].startswith('Content'):\n",
    "                df.data[i] = df.data[i].replace(df.data[i].split('\\n')[j],'')\n",
    "            elif df.data[i].split('\\n')[j].startswith('Mail-'):\n",
    "                df.data[i] = df.data[i].replace(df.data[i].split('\\n')[j],'')\n",
    "            elif df.data[i].split('\\n')[j].startswith('References:'):\n",
    "                df.data[i] = df.data[i].replace(df.data[i].split('\\n')[j],'')\n",
    "            elif df.data[i].split('\\n')[j].startswith('URL:'):\n",
    "                df.data[i] = df.data[i].replace(df.data[i].split('\\n')[j],'')"
   ]
  },
  {
   "cell_type": "code",
   "execution_count": 30,
   "id": "c31b5e5e",
   "metadata": {},
   "outputs": [],
   "source": [
    "def removerr(df):\n",
    "    for i in range(len(df.data)):\n",
    "        df.data[i] = df.data[i].replace('\\n','')"
   ]
  },
  {
   "cell_type": "markdown",
   "id": "3ce42618",
   "metadata": {},
   "source": [
    "## Clean easy-spam dataset "
   ]
  },
  {
   "cell_type": "code",
   "execution_count": 31,
   "id": "a1e856d0",
   "metadata": {},
   "outputs": [],
   "source": [
    "remover(es_df)"
   ]
  },
  {
   "cell_type": "code",
   "execution_count": 32,
   "id": "e588189f",
   "metadata": {},
   "outputs": [],
   "source": [
    "removerr(es_df)"
   ]
  },
  {
   "cell_type": "markdown",
   "id": "30f7f503",
   "metadata": {},
   "source": [
    "## Clean hard-spam dataset "
   ]
  },
  {
   "cell_type": "code",
   "execution_count": 33,
   "id": "80afa410",
   "metadata": {},
   "outputs": [],
   "source": [
    "remover(hs_df)"
   ]
  },
  {
   "cell_type": "code",
   "execution_count": 34,
   "id": "f2692d11",
   "metadata": {},
   "outputs": [],
   "source": [
    "removerr(hs_df)"
   ]
  },
  {
   "cell_type": "markdown",
   "id": "5423e69b",
   "metadata": {},
   "source": [
    "### Split using the cleaned data sets"
   ]
  },
  {
   "cell_type": "code",
   "execution_count": 35,
   "id": "2be6b9aa",
   "metadata": {},
   "outputs": [],
   "source": [
    "# Split the easy&spam data cleaned into training set(70%) and test set (30%)\n",
    "easy_train, easy_test, spam1_train, spam1_test = train_test_split(es_df.data, es_df.target, test_size=0.3, random_state=0)"
   ]
  },
  {
   "cell_type": "code",
   "execution_count": 36,
   "id": "f93ec9dc",
   "metadata": {},
   "outputs": [],
   "source": [
    "# Split the hard&spam data into training set(70%) and test set (30%)\n",
    "hard_train, hard_test, spam2_train, spam2_test = train_test_split(hs_df.data, hs_df.target, test_size=0.3, random_state=0)"
   ]
  },
  {
   "cell_type": "markdown",
   "id": "93d9b953",
   "metadata": {},
   "source": [
    "## Using the function from task 3"
   ]
  },
  {
   "cell_type": "markdown",
   "id": "07768db0",
   "metadata": {},
   "source": [
    "### Easy-ham versus Spam email"
   ]
  },
  {
   "cell_type": "code",
   "execution_count": 37,
   "id": "896101db",
   "metadata": {},
   "outputs": [
    {
     "data": {
      "image/png": "[encoded data removed]",
      "text/plain": [
       "<Figure size 432x288 with 2 Axes>"
      ]
     },
     "metadata": {
      "needs_background": "light"
     },
     "output_type": "display_data"
    },
    {
     "name": "stdout",
     "output_type": "stream",
     "text": [
      "Multinomial, Precision score: 0.9557522123893806\n",
      "Multinomial, Recall score: 0.7248322147651006\n"
     ]
    }
   ],
   "source": [
    "run_multi_naiveBayes(easy_train, easy_test, spam1_train, spam1_test)"
   ]
  },
  {
   "cell_type": "code",
   "execution_count": 38,
   "id": "a2d0069a",
   "metadata": {},
   "outputs": [
    {
     "data": {
      "image/png": "[encoded data removed]",
      "text/plain": [
       "<Figure size 432x288 with 2 Axes>"
      ]
     },
     "metadata": {
      "needs_background": "light"
     },
     "output_type": "display_data"
    },
    {
     "name": "stdout",
     "output_type": "stream",
     "text": [
      "Bernoulli, Precision score: 0.8571428571428571\n",
      "Bernoulli, Recall score: 0.3624161073825503\n"
     ]
    }
   ],
   "source": [
    "run_bern_naiveBayes(easy_train, easy_test, spam1_train, spam1_test)"
   ]
  },
  {
   "cell_type": "markdown",
   "id": "de7c72e8",
   "metadata": {},
   "source": [
    "### Hard-ham versus Spam"
   ]
  },
  {
   "cell_type": "code",
   "execution_count": 39,
   "id": "8ffa2a48",
   "metadata": {},
   "outputs": [
    {
     "data": {
      "image/png": "[encoded data removed]",
      "text/plain": [
       "<Figure size 432x288 with 2 Axes>"
      ]
     },
     "metadata": {
      "needs_background": "light"
     },
     "output_type": "display_data"
    },
    {
     "name": "stdout",
     "output_type": "stream",
     "text": [
      "Multinomial, Precision score: 0.8851351351351351\n",
      "Multinomial, Recall score: 0.8972602739726028\n"
     ]
    }
   ],
   "source": [
    "run_multi_naiveBayes(hard_train, hard_test, spam2_train, spam2_test)"
   ]
  },
  {
   "cell_type": "code",
   "execution_count": 40,
   "id": "ad798417",
   "metadata": {},
   "outputs": [
    {
     "data": {
      "image/png": "[encoded data removed]",
      "text/plain": [
       "<Figure size 432x288 with 2 Axes>"
      ]
     },
     "metadata": {
      "needs_background": "light"
     },
     "output_type": "display_data"
    },
    {
     "name": "stdout",
     "output_type": "stream",
     "text": [
      "Bernoulli, Precision score: 0.8245614035087719\n",
      "Bernoulli, Recall score: 0.9657534246575342\n"
     ]
    }
   ],
   "source": [
    "run_bern_naiveBayes(hard_train, hard_test, spam2_train, spam2_test)"
   ]
  },
  {
   "cell_type": "markdown",
   "id": "18dc30bb",
   "metadata": {},
   "source": [
    "## Using the function from task 4"
   ]
  },
  {
   "cell_type": "markdown",
   "id": "166fe15f",
   "metadata": {},
   "source": [
    "### Easy-ham versus Spam email"
   ]
  },
  {
   "cell_type": "code",
   "execution_count": 41,
   "id": "51433f70",
   "metadata": {},
   "outputs": [
    {
     "data": {
      "image/png": "[encoded data removed]",
      "text/plain": [
       "<Figure size 432x288 with 2 Axes>"
      ]
     },
     "metadata": {
      "needs_background": "light"
     },
     "output_type": "display_data"
    },
    {
     "name": "stdout",
     "output_type": "stream",
     "text": [
      "Multinomial, Precision score: 0.9763779527559056\n",
      "Multinomial, Recall score: 0.8322147651006712\n"
     ]
    }
   ],
   "source": [
    "run_multi_naiveBayes_v(easy_train, easy_test, spam1_train, spam1_test)"
   ]
  },
  {
   "cell_type": "code",
   "execution_count": 42,
   "id": "df6385d5",
   "metadata": {},
   "outputs": [
    {
     "data": {
      "image/png": "[encoded data removed]",
      "text/plain": [
       "<Figure size 432x288 with 2 Axes>"
      ]
     },
     "metadata": {
      "needs_background": "light"
     },
     "output_type": "display_data"
    },
    {
     "name": "stdout",
     "output_type": "stream",
     "text": [
      "Bernoulli, Precision score: 0.8712871287128713\n",
      "Bernoulli, Recall score: 0.5906040268456376\n"
     ]
    }
   ],
   "source": [
    "run_bern_naiveBayes_v(easy_train, easy_test, spam1_train, spam1_test)"
   ]
  },
  {
   "cell_type": "markdown",
   "id": "b1003e8c",
   "metadata": {},
   "source": [
    "### Hard-ham versus Spam"
   ]
  },
  {
   "cell_type": "code",
   "execution_count": 43,
   "id": "17686fbb",
   "metadata": {},
   "outputs": [
    {
     "data": {
      "image/png": "[encoded data removed]",
      "text/plain": [
       "<Figure size 432x288 with 2 Axes>"
      ]
     },
     "metadata": {
      "needs_background": "light"
     },
     "output_type": "display_data"
    },
    {
     "name": "stdout",
     "output_type": "stream",
     "text": [
      "Multinomial, Precision score: 0.88125\n",
      "Multinomial, Recall score: 0.9657534246575342\n"
     ]
    }
   ],
   "source": [
    "run_multi_naiveBayes_v(hard_train, hard_test, spam2_train, spam2_test)"
   ]
  },
  {
   "cell_type": "code",
   "execution_count": 44,
   "id": "861868e5",
   "metadata": {
    "scrolled": true
   },
   "outputs": [
    {
     "data": {
      "image/png": "[encoded data removed]",
      "text/plain": [
       "<Figure size 432x288 with 2 Axes>"
      ]
     },
     "metadata": {
      "needs_background": "light"
     },
     "output_type": "display_data"
    },
    {
     "name": "stdout",
     "output_type": "stream",
     "text": [
      "Bernoulli, Precision score: 0.8333333333333334\n",
      "Bernoulli, Recall score: 0.958904109589041\n"
     ]
    }
   ],
   "source": [
    "run_bern_naiveBayes_v(hard_train, hard_test, spam2_train, spam2_test)"
   ]
  }
 ],
 "metadata": {
  "kernelspec": {
   "display_name": "Python 3 (ipykernel)",
   "language": "python",
   "name": "python3"
  },
  "language_info": {
   "codemirror_mode": {
    "name": "ipython",
    "version": 3
   },
   "file_extension": ".py",
   "mimetype": "text/x-python",
   "name": "python",
   "nbconvert_exporter": "python",
   "pygments_lexer": "ipython3",
   "version": "3.10.6"
  }
 },
 "nbformat": 4,
 "nbformat_minor": 5
}
